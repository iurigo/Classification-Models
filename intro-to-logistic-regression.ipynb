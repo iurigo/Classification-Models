{
 "cells": [
  {
   "cell_type": "markdown",
   "metadata": {
    "slideshow": {
     "slide_type": "slide"
    }
   },
   "source": [
    "\n",
    "# Introduction to Logistic Regression\n",
    "\n",
    "---\n",
    "\n",
    "### Learning Objectives\n",
    "- Understand how logistic regression is similar to and different than regression\n",
    "- Understand the math behind the logit link function (and logistic function)\n",
    "- Code the calculation of the odds ratio and log-odds ratio\n",
    "- Understand how to interpret the coefficients of logistic regression\n",
    "- Know the benefits of logistic regression as a classifier\n",
    "\n"
   ]
  },
  {
   "cell_type": "markdown",
   "metadata": {
    "slideshow": {
     "slide_type": "slide"
    }
   },
   "source": [
    "<a id='introduction'></a>\n",
    "\n",
    "## Introduction\n",
    "\n",
    "---\n",
    "\n",
    "Logistic regression is a famous classifier still used frequently today, despite its age. It _is_ a regression, but don't let that confuse you: it operates as a classifier. It estimates probabilities of class membership.\n",
    "\n",
    "In this lecture we will only be reviewing the binary outcome case with two classes, but logistic regression can be generalized to multiple classes.\n"
   ]
  },
  {
   "cell_type": "markdown",
   "metadata": {
    "slideshow": {
     "slide_type": "slide"
    }
   },
   "source": [
    "\n",
    "**Some examples of when logistic regression could be used:**\n",
    "- Predict whether or not a user will purchase a product given their demographic characteristics.\n",
    "- Predict the likelihood of a student being admitted to a college, given their scores and the characteristics of the college.\n",
    "- Diagnose a patient with a disease or not, given symptoms.\n",
    "- Predict whether a person will default on a loan and with what likelihood.\n",
    "\n",
    "And many more. "
   ]
  },
  {
   "cell_type": "code",
   "execution_count": 1,
   "metadata": {
    "slideshow": {
     "slide_type": "slide"
    }
   },
   "outputs": [
    {
     "name": "stderr",
     "output_type": "stream",
     "text": [
      "/Users/phillippa/anaconda/lib/python2.7/site-packages/statsmodels/compat/pandas.py:56: FutureWarning: The pandas.core.datetools module is deprecated and will be removed in a future version. Please use the pandas.tseries module instead.\n",
      "  from pandas.core import datetools\n"
     ]
    }
   ],
   "source": [
    "import matplotlib.pyplot as plt\n",
    "import numpy as np\n",
    "import pandas as pd\n",
    "\n",
    "import seaborn as sns\n",
    "\n",
    "plt.style.use('ggplot')\n",
    "\n",
    "%matplotlib inline\n",
    "\n",
    "\n",
    "from sklearn.linear_model import LogisticRegression, LinearRegression\n",
    "import statsmodels.api as sm"
   ]
  },
  {
   "cell_type": "code",
   "execution_count": 2,
   "metadata": {
    "collapsed": true,
    "slideshow": {
     "slide_type": "skip"
    }
   },
   "outputs": [],
   "source": [
    "# Some nice colors we can use in our plots:\n",
    "colors = {'blue': '#729ECE',\n",
    "          'brown': '#A8786E',\n",
    "          'green': '#67BF5C',\n",
    "          'grey': '#A2A2A2',\n",
    "          'orange': '#FF9E4A',\n",
    "          'pink': '#ED97CA',\n",
    "          'purple': '#AD8BC9',\n",
    "          'red': '#ED665D',\n",
    "          'teal': '#6DCCDA',\n",
    "          'yellow': '#CDCC5D'}"
   ]
  },
  {
   "cell_type": "markdown",
   "metadata": {
    "slideshow": {
     "slide_type": "slide"
    }
   },
   "source": [
    "<a id='load-data'></a>\n",
    "\n",
    "## Load the college admissions data\n",
    "\n",
    "---\n",
    "\n",
    "As we walk through the inner workings of logistic regression, we will be using some basic college admissions data. The data only has a few columns:\n",
    "- `admit`: a binary 1-0 variable indicating whether a student was admitted\n",
    "- `gre`: the student's GRE score\n",
    "- `gpa`: the student's GPA\n",
    "- `prestige`: a rating for the applicant's undergrad college's prestige\n",
    "\n",
    "**Load in the data and do any neccessary cleaning.**"
   ]
  },
  {
   "cell_type": "code",
   "execution_count": 3,
   "metadata": {
    "slideshow": {
     "slide_type": "slide"
    }
   },
   "outputs": [
    {
     "data": {
      "text/html": [
       "<div>\n",
       "<style>\n",
       "    .dataframe thead tr:only-child th {\n",
       "        text-align: right;\n",
       "    }\n",
       "\n",
       "    .dataframe thead th {\n",
       "        text-align: left;\n",
       "    }\n",
       "\n",
       "    .dataframe tbody tr th {\n",
       "        vertical-align: top;\n",
       "    }\n",
       "</style>\n",
       "<table border=\"1\" class=\"dataframe\">\n",
       "  <thead>\n",
       "    <tr style=\"text-align: right;\">\n",
       "      <th></th>\n",
       "      <th>admit</th>\n",
       "      <th>gre</th>\n",
       "      <th>gpa</th>\n",
       "      <th>prestige</th>\n",
       "    </tr>\n",
       "  </thead>\n",
       "  <tbody>\n",
       "    <tr>\n",
       "      <th>0</th>\n",
       "      <td>0</td>\n",
       "      <td>380.0</td>\n",
       "      <td>3.61</td>\n",
       "      <td>3.0</td>\n",
       "    </tr>\n",
       "    <tr>\n",
       "      <th>1</th>\n",
       "      <td>1</td>\n",
       "      <td>660.0</td>\n",
       "      <td>3.67</td>\n",
       "      <td>3.0</td>\n",
       "    </tr>\n",
       "    <tr>\n",
       "      <th>2</th>\n",
       "      <td>1</td>\n",
       "      <td>800.0</td>\n",
       "      <td>4.00</td>\n",
       "      <td>1.0</td>\n",
       "    </tr>\n",
       "  </tbody>\n",
       "</table>\n",
       "</div>"
      ],
      "text/plain": [
       "   admit    gre   gpa  prestige\n",
       "0      0  380.0  3.61       3.0\n",
       "1      1  660.0  3.67       3.0\n",
       "2      1  800.0  4.00       1.0"
      ]
     },
     "execution_count": 3,
     "metadata": {},
     "output_type": "execute_result"
    }
   ],
   "source": [
    "admissions = pd.read_csv('./datasets/admissions.csv')\n",
    "admissions.head(3)"
   ]
  },
  {
   "cell_type": "code",
   "execution_count": 4,
   "metadata": {
    "slideshow": {
     "slide_type": "slide"
    }
   },
   "outputs": [
    {
     "data": {
      "text/plain": [
       "admit       0\n",
       "gre         2\n",
       "gpa         2\n",
       "prestige    1\n",
       "dtype: int64"
      ]
     },
     "execution_count": 4,
     "metadata": {},
     "output_type": "execute_result"
    }
   ],
   "source": [
    "admissions.isnull().sum()"
   ]
  },
  {
   "cell_type": "code",
   "execution_count": 5,
   "metadata": {
    "collapsed": true,
    "slideshow": {
     "slide_type": "fragment"
    }
   },
   "outputs": [],
   "source": [
    "admissions.dropna(inplace=True)"
   ]
  },
  {
   "cell_type": "markdown",
   "metadata": {
    "slideshow": {
     "slide_type": "slide"
    }
   },
   "source": [
    "### Artificially increase the signal in the data\n",
    "\n",
    "We going to focus on looking at admit ~ GPA.  For simplicity, we'll first subset our data just to those with prestige = 1.\n",
    "\n",
    "The signal for detecting admission in the college data is fairly weak. Too weak for demonstration purposes. Below I not only multiply the dataset by 10x, but add some artificial signal for detecting `admit` to the `gpa` column. \n",
    "\n",
    "*Obviously* you would never do this to your real data."
   ]
  },
  {
   "cell_type": "code",
   "execution_count": 6,
   "metadata": {
    "collapsed": true,
    "slideshow": {
     "slide_type": "fragment"
    }
   },
   "outputs": [],
   "source": [
    "admit = admissions[admissions.prestige == 1]\n",
    "\n",
    "admit = pd.concat([admit]*10, axis=0)\n",
    "\n",
    "admit.loc[admit.admit == 1, 'gpa'] += np.random.random(size=admit[admit.admit == 1].shape[0])\n",
    "admit.loc[admit.admit == 0, 'gpa'] -= np.random.random(size=admit[admit.admit == 0].shape[0])"
   ]
  },
  {
   "cell_type": "markdown",
   "metadata": {
    "slideshow": {
     "slide_type": "slide"
    }
   },
   "source": [
    "<a id='expected-value'></a>\n",
    "\n",
    "## Regression models estimate the expected value of `y`\n",
    "\n",
    "---\n",
    "\n",
    "Logistic regression is a regression. It still constructs a formula with our predictor variables and coefficients to estimate the *expected value* of the target variable.\n",
    "\n",
    "You are quite familiar with linear regression. I've re-written the formula slightly on the left-hand side:\n",
    "\n",
    " $$E(y|X) = \\beta_0 + \\sum_{j}^p\\beta_jx_j$$\n",
    "\n",
    "Where:\n",
    "- $E(y|X)$ is the expected value (mean) of y given corresponding predictor values in matrix $X$\n",
    "- $\\sum_{j}^p$ are the predictors $j$ thru $p$ (columns) of the $X$ matrix\n",
    "- $\\beta_0$ is the intercept\n",
    "- $\\beta_j$ is the coefficient for the predictor $x_j$, the $j$th column in variable matrix $X$\n"
   ]
  },
  {
   "cell_type": "markdown",
   "metadata": {
    "slideshow": {
     "slide_type": "slide"
    }
   },
   "source": [
    "## What if we predicted `admit` with `gpa` using linear regression?\n",
    "\n",
    "\n",
    "What do you think might go wrong?"
   ]
  },
  {
   "cell_type": "code",
   "execution_count": 7,
   "metadata": {
    "slideshow": {
     "slide_type": "slide"
    }
   },
   "outputs": [
    {
     "name": "stdout",
     "output_type": "stream",
     "text": [
      "Intercept: -1.28396969324\n",
      "Coef(s): [ 0.52241926]\n"
     ]
    }
   ],
   "source": [
    "y = admit.admit.values\n",
    "X = admit[['gpa']].values\n",
    "\n",
    "linmod = LinearRegression()\n",
    "linmod.fit(X, y)\n",
    "\n",
    "print 'Intercept:', linmod.intercept_\n",
    "print 'Coef(s):', linmod.coef_"
   ]
  },
  {
   "cell_type": "markdown",
   "metadata": {
    "slideshow": {
     "slide_type": "-"
    }
   },
   "source": [
    "What do these coefficients mean?  Do they make sense?"
   ]
  },
  {
   "cell_type": "markdown",
   "metadata": {
    "slideshow": {
     "slide_type": "slide"
    }
   },
   "source": [
    "Let's calculate the full range of predicted values for admission within our given GPA data."
   ]
  },
  {
   "cell_type": "code",
   "execution_count": 8,
   "metadata": {},
   "outputs": [
    {
     "name": "stdout",
     "output_type": "stream",
     "text": [
      "-0.289217343042 1.3185687787\n"
     ]
    }
   ],
   "source": [
    "max_admit = admit['gpa'].max()*linmod.coef_[0] + linmod.intercept_\n",
    "min_admit = admit['gpa'].min()*linmod.coef_[0] + linmod.intercept_\n",
    "print min_admit, max_admit"
   ]
  },
  {
   "cell_type": "markdown",
   "metadata": {
    "slideshow": {
     "slide_type": "fragment"
    }
   },
   "source": [
    "\n",
    "###   Plot `admit ~ gpa`\n",
    "\n",
    "How can we interpret these coefficients when we know that `admit` is either 0 or 1? Looking at the plot below, what is the apparent problem with using a regression?"
   ]
  },
  {
   "cell_type": "code",
   "execution_count": 9,
   "metadata": {
    "slideshow": {
     "slide_type": "slide"
    }
   },
   "outputs": [
    {
     "data": {
      "text/plain": [
       "<matplotlib.legend.Legend at 0x11a694e90>"
      ]
     },
     "execution_count": 9,
     "metadata": {},
     "output_type": "execute_result"
    },
    {
     "data": {
      "image/png": "[encoded data removed]",
      "text/plain": [
       "<matplotlib.figure.Figure at 0x1172fde90>"
      ]
     },
     "metadata": {},
     "output_type": "display_data"
    }
   ],
   "source": [
    "fig, ax = plt.subplots(figsize=(10,6))\n",
    "\n",
    "x_vals = np.linspace(1.,5.,300)\n",
    "ax.plot(x_vals, linmod.predict(x_vals[:, np.newaxis]),\n",
    "        color='black', alpha=0.7, lw=4)\n",
    "\n",
    "# do one scatter plot for each admission status:\n",
    "ax.scatter(admit.gpa[admit.admit == 0],\n",
    "           admit.admit[admit.admit == 0], c=colors['orange'], s=100, alpha=0.7, label='rejected')\n",
    "\n",
    "ax.scatter(admit.gpa[admit.admit == 1], admit.admit[admit.admit == 1],\n",
    "           c=colors['blue'], s=100, alpha=0.7, label='admitted')\n",
    "\n",
    "ax.set_ylabel('admitted', fontsize=16)\n",
    "ax.set_xlabel('gpa', fontsize=16)\n",
    "ax.set_title('admittance ~ gpa, prestige=1\\n', fontsize=20)\n",
    "ax.set_xlim([admit['gpa'].min(),admit['gpa'].max()])\n",
    "ax.set_ylim(-0.25, 1.25)\n",
    "plt.legend(loc='upper left')\n"
   ]
  },
  {
   "cell_type": "markdown",
   "metadata": {
    "slideshow": {
     "slide_type": "slide"
    }
   },
   "source": [
    "<a id='pred-binary'></a>\n",
    "\n",
    "## Predicting a binary class\n",
    "\n",
    "---\n",
    "\n",
    "In our case we have two classes `1=admitted` and `0=rejected`.\n",
    "\n",
    "The logistic regression is still solving for an expected value. In our binary classification case this expected value is the probability of `y` being one of the classes.\n",
    "\n",
    " $$E(y) = P(y = 1)$$\n",
    "\n",
    "As you can see, we still represent this with a regression on the right side.\n",
    "\n",
    " $$E(y|X) = P(y = 1|X) = \\beta_0 + \\sum_{j}^p\\beta_jx_j$$\n",
    "\n",
    "> What problem do we have here?  What values can a probability take?"
   ]
  },
  {
   "cell_type": "markdown",
   "metadata": {
    "slideshow": {
     "slide_type": "slide"
    }
   },
   "source": [
    "Probabilities have to be in the range [0, 1]. The right side of the equation is in no way bounded to [0, 1]. We need to *guarantee* that the right-hand side of the regression equation will evaluate to a probability estimate."
   ]
  },
  {
   "cell_type": "markdown",
   "metadata": {
    "slideshow": {
     "slide_type": "slide"
    }
   },
   "source": [
    "## The logit \"link function\"\n",
    "\n",
    "\n",
    "We can restrict the value of the LHS using a  **link function**.\n",
    "\n",
    "A link function is simply a function that we apply to constrain $y$ to a desired range.\n",
    "\n",
    "$$\\text{logit}(\\;p\\;) =  \\beta_0 + \\sum_{j}^p\\beta_jx_j $$\n",
    "\n",
    "\n",
    "So we're looking for some function that will restrict the p to [0,1].  So $\\text{logit}(\\;p\\;)$ must be in the range [-inf,+inf], and $p$ in the range [0,1]."
   ]
  },
  {
   "cell_type": "markdown",
   "metadata": {
    "slideshow": {
     "slide_type": "slide"
    }
   },
   "source": [
    "### So what's the logit link?  First... odds ratios...\n",
    "\n",
    "The initial step in the logit link function involves the use of **odds ratios**. Before we get into _why_, it's important to understand what an odds ratio is.\n",
    "\n",
    "Probabilities and odds ratios represent the same thing in different ways. Probabilities can be alternatively expressed as odds ratios. The odds ratio for probability **p** is defined:\n",
    "\n",
    " $$\\text{odds ratio}(p) = \\frac{p}{1-p}$$\n",
    "\n",
    "The odds ratio of a probability is a measure of how many times more likely it is than the inverse case.\n",
    "\n",
    "For example:\n",
    "\n",
    "- When **`p = 0.5`**: **`odds ratio = 1`**\n",
    "    - it is equally likely to happen as it is to not happen.\n",
    "- When **`p = 0.75`**: **`odds ratio = 3`**\n",
    "    - it is 3 times more likely to happen than not happen.\n",
    "- When **`p = 0.40`**: **`odds ratio = 0.666..`**\n",
    "    - it is 2/3rds as likely to happen than not happen."
   ]
  },
  {
   "cell_type": "markdown",
   "metadata": {
    "slideshow": {
     "slide_type": "slide"
    }
   },
   "source": [
    "### Let's see some examples:\n",
    "\n",
    "#### What are the probabilities of admission by prestige?"
   ]
  },
  {
   "cell_type": "code",
   "execution_count": 10,
   "metadata": {
    "collapsed": true,
    "slideshow": {
     "slide_type": "fragment"
    }
   },
   "outputs": [],
   "source": [
    "y_p1 = admissions[admissions.prestige == 1].admit.values\n",
    "y_p2 = admissions[admissions.prestige == 2].admit.values\n",
    "y_p3 = admissions[admissions.prestige == 3].admit.values\n",
    "y_p4 = admissions[admissions.prestige == 4].admit.values"
   ]
  },
  {
   "cell_type": "code",
   "execution_count": 11,
   "metadata": {
    "slideshow": {
     "slide_type": "-"
    }
   },
   "outputs": [
    {
     "name": "stdout",
     "output_type": "stream",
     "text": [
      "P(admit | prestige = 1): 0.540983606557\n",
      "P(admit | prestige = 2): 0.358108108108\n",
      "P(admit | prestige = 3): 0.231404958678\n",
      "P(admit | prestige = 4): 0.179104477612\n"
     ]
    }
   ],
   "source": [
    "print 'P(admit | prestige = 1):', np.mean(y_p1)\n",
    "print 'P(admit | prestige = 2):', np.mean(y_p2)\n",
    "print 'P(admit | prestige = 3):', np.mean(y_p3)\n",
    "print 'P(admit | prestige = 4):', np.mean(y_p4)"
   ]
  },
  {
   "cell_type": "markdown",
   "metadata": {
    "slideshow": {
     "slide_type": "slide"
    }
   },
   "source": [
    "#### Write a function to calculate odds ratios and calculate the odds ratios of admittance by prestige."
   ]
  },
  {
   "cell_type": "code",
   "execution_count": 12,
   "metadata": {
    "collapsed": true,
    "slideshow": {
     "slide_type": "-"
    }
   },
   "outputs": [],
   "source": [
    "def odds_ratio(p):\n",
    "    return (float(p) / (1 - p))"
   ]
  },
  {
   "cell_type": "markdown",
   "metadata": {
    "slideshow": {
     "slide_type": "slide"
    }
   },
   "source": [
    "### Let's calculate a few....\n",
    "\n",
    "What are the correct interpretation of the below?"
   ]
  },
  {
   "cell_type": "code",
   "execution_count": 13,
   "metadata": {
    "slideshow": {
     "slide_type": "-"
    }
   },
   "outputs": [
    {
     "name": "stdout",
     "output_type": "stream",
     "text": [
      "odds(admit | prestige = 1): 1.17857142857\n",
      "odds(admit | prestige = 2): 0.557894736842\n",
      "odds(admit | prestige = 3): 0.301075268817\n",
      "odds(admit | prestige = 4): 0.218181818182\n"
     ]
    }
   ],
   "source": [
    "print 'odds(admit | prestige = 1):', odds_ratio(np.mean(y_p1))\n",
    "print 'odds(admit | prestige = 2):', odds_ratio(np.mean(y_p2))\n",
    "print 'odds(admit | prestige = 3):', odds_ratio(np.mean(y_p3))\n",
    "print 'odds(admit | prestige = 4):', odds_ratio(np.mean(y_p4))"
   ]
  },
  {
   "cell_type": "markdown",
   "metadata": {
    "slideshow": {
     "slide_type": "slide"
    }
   },
   "source": [
    "### So what happens if we were to use the odds ratio in place of y?\n",
    "\n",
    "Remeber that we are trying to satisfy two conditions:\n",
    "1. Our estimate of p must represent a probability in some way (so must be in [0,1]).\n",
    "2. The regression formula pre-transformation (RHS) must be able to evaluate to anything on the real number range.\n",
    "\n",
    "We can start by putting the odds ratio in place of the probability on the left side of the regression equation:\n",
    "\n",
    "$$ \\frac{P(y = 1)}{1-P(y = 1)} = \\beta_0 + \\sum_{j}^p\\beta_jx_j$$\n",
    "\n",
    "The range of odds ratio, our predicted value, is now restricted to be in the range **`[0, infinity]`**\n"
   ]
  },
  {
   "cell_type": "markdown",
   "metadata": {
    "slideshow": {
     "slide_type": "slide"
    }
   },
   "source": [
    "## What happens if we just leave it like this?"
   ]
  },
  {
   "cell_type": "markdown",
   "metadata": {
    "slideshow": {
     "slide_type": "fragment"
    }
   },
   "source": [
    "Remember that the RHS can evaluate to [-inf, inf].  So we need to modify our LHS further such that it can take values down to -infinity."
   ]
  },
  {
   "cell_type": "markdown",
   "metadata": {
    "slideshow": {
     "slide_type": "slide"
    }
   },
   "source": [
    "<a id='log-odds'></a>\n",
    "\n",
    "### Step 2: the log-odds (natural logarithm of the odds ratio) instead of the odds ratio\n",
    "\n",
    "If we take the natural logarithm of a variable that falls between 0 and infinity, we can transform it into a variable that falls in the range [-inf, inf].\n",
    "\n",
    ">Check this for yourself!  What is the natural log of a number in the range [0,1]?  \n",
    ">How about [1, inf]?  \n",
    "> And 1 exactly?\n",
    "\n"
   ]
  },
  {
   "cell_type": "markdown",
   "metadata": {
    "slideshow": {
     "slide_type": "slide"
    }
   },
   "source": [
    "The formula now works: the regression can now predict any negative or positive number, and we can convert it back into the odds ratio, and then a probability in the range [0,1].\n",
    "\n",
    "The combination of converting the probability to an odds ratio and taking the logarithm of that is called the **logit link function**:\n",
    "\n",
    " $$\\text{logit}\\big(y\\big) = ln\\bigg(\\frac{P(y=1)}{1-P(y=1)}\\bigg) =  \\beta_0 + \\sum_{j}^p\\beta_jx_j$$"
   ]
  },
  {
   "cell_type": "markdown",
   "metadata": {
    "slideshow": {
     "slide_type": "slide"
    }
   },
   "source": [
    "## Ok great... but how do I get the probability out?\n",
    "\n",
    "\n",
    "The inverse function of the logit is called the **logistic function** (also sigmoid function). \n",
    "\n",
    "\n",
    "\n",
    "$$P(y=1) = \\frac{e^{\\left(\\beta_0 + \\sum_{j}^p\\beta_jx_j\\right)}}{e^{\\left(\\beta_0 + \\sum_{j}^p\\beta_jx_j\\right)}+1}$$\n",
    "\n",
    "> Let's prove this to ourselves with algebra\n",
    "\n",
    "![text](https://media.giphy.com/media/12RfP2odT4hEOI/giphy.gif)\n",
    "\n",
    "\n"
   ]
  },
  {
   "cell_type": "markdown",
   "metadata": {
    "slideshow": {
     "slide_type": "slide"
    }
   },
   "source": [
    "<a id='logistic-viz'></a>\n",
    "\n",
    "## The logistic regression prediction line visually\n",
    "\n",
    "---\n",
    "\n",
    "Let's plot the prediction of `admit` using sklearn's `LogisticRegression` class and see what the regression line looks like."
   ]
  },
  {
   "cell_type": "code",
   "execution_count": 14,
   "metadata": {
    "slideshow": {
     "slide_type": "-"
    }
   },
   "outputs": [
    {
     "name": "stdout",
     "output_type": "stream",
     "text": [
      "Logreg intercept: [-8.44152473]\n",
      "Logreg coef(s): [[ 2.51391997]]\n"
     ]
    }
   ],
   "source": [
    "# we'll use sklearn to find the estimated for betas\n",
    "y = admit.admit.values\n",
    "X = admit[['gpa']].values\n",
    "\n",
    "logreg = LogisticRegression()\n",
    "logreg.fit(X, y)\n",
    "\n",
    "print 'Logreg intercept:', logreg.intercept_\n",
    "print 'Logreg coef(s):', logreg.coef_"
   ]
  },
  {
   "cell_type": "code",
   "execution_count": 15,
   "metadata": {
    "collapsed": true,
    "slideshow": {
     "slide_type": "slide"
    }
   },
   "outputs": [],
   "source": [
    "def calc_prob(intercept, coef, x):\n",
    "    '''calculates the probabilty of y=1 for given intercept and beta_1'''\n",
    "    return (np.exp(intercept + coef*x) / (1 + np.exp(intercept + coef*x)))[0][0]\n"
   ]
  },
  {
   "cell_type": "code",
   "execution_count": 16,
   "metadata": {
    "slideshow": {
     "slide_type": "-"
    }
   },
   "outputs": [
    {
     "data": {
      "image/png": "[encoded data removed]",
      "text/plain": [
       "<matplotlib.figure.Figure at 0x1172fd610>"
      ]
     },
     "metadata": {},
     "output_type": "display_data"
    }
   ],
   "source": [
    "fig, ax = plt.subplots(figsize=(10,6))\n",
    "\n",
    "# plot the logreg regression line for admit ~ gpa\n",
    "x_vals = np.linspace(2.,5.,300)\n",
    "y_pp = [calc_prob(logreg.intercept_, logreg.coef_,x) for x in x_vals]\n",
    "ax.plot(x_vals, y_pp, color='black', alpha=0.7, lw=4)\n",
    "\n",
    "ax.scatter(admit.gpa[admit.admit == 0],\n",
    "           admit.admit[admit.admit == 0],\n",
    "           c=colors['orange'], s=100, alpha=0.7,\n",
    "           label='rejected')\n",
    "\n",
    "ax.scatter(admit.gpa[admit.admit == 1],\n",
    "           admit.admit[admit.admit == 1],\n",
    "           c=colors['blue'], s=100, alpha=0.7,\n",
    "           label='admitted')\n",
    "\n",
    "\n",
    "ax.set_ylabel('admitted', fontsize=16)\n",
    "ax.set_xlabel('gpa', fontsize=16)\n",
    "ax.set_title('admittance ~ gpa, prestige=1\\n', fontsize=20)\n",
    "\n",
    "ax.set_xlim([2.,5.])\n",
    "ax.set_ylim([-0.1, 1.1])\n",
    "\n",
    "plt.legend(loc='upper left')\n",
    "plt.show()"
   ]
  },
  {
   "cell_type": "markdown",
   "metadata": {
    "slideshow": {
     "slide_type": "slide"
    }
   },
   "source": [
    "<a id='solving-beta'></a>\n",
    "## Solving for the beta coefficients\n",
    "\n",
    "---\n",
    "\n",
    "Logistic regression minimizes the \"deviance\", which is analagous to the residual sum of squares in linear regression. There is not a closed-form solution to the beta coefficients like in linear regression, and the betas are found through optimization procedures.\n",
    "\n",
    "If you are particularly interested in the math, these two resources are good:\n",
    "\n",
    "[A good blog post on the logistic regression beta coefficient derivation.](http://www.win-vector.com/blog/2011/09/the-simpler-derivation-of-logistic-regression/)\n",
    "\n",
    "[This paper is also a good reference.](https://www.stat.cmu.edu/~cshalizi/402/lectures/14-logistic-regression/lecture-14.pdf)\n",
    "\n"
   ]
  },
  {
   "cell_type": "markdown",
   "metadata": {
    "slideshow": {
     "slide_type": "slide"
    }
   },
   "source": [
    "## Interpreting logistic regression coefficients\n",
    "\n",
    "The interpretation of logistic regression coefficients can be a little confusing due to the logistic function.\n",
    "\n",
    "Let's work through an example with this dataset.  \n",
    "\n",
    "We're going to use statsmodel because it shows us the nice interface with summary!\n",
    "\n"
   ]
  },
  {
   "cell_type": "code",
   "execution_count": 17,
   "metadata": {
    "slideshow": {
     "slide_type": "slide"
    }
   },
   "outputs": [
    {
     "data": {
      "text/html": [
       "<div>\n",
       "<style>\n",
       "    .dataframe thead tr:only-child th {\n",
       "        text-align: right;\n",
       "    }\n",
       "\n",
       "    .dataframe thead th {\n",
       "        text-align: left;\n",
       "    }\n",
       "\n",
       "    .dataframe tbody tr th {\n",
       "        vertical-align: top;\n",
       "    }\n",
       "</style>\n",
       "<table border=\"1\" class=\"dataframe\">\n",
       "  <thead>\n",
       "    <tr style=\"text-align: right;\">\n",
       "      <th></th>\n",
       "      <th>admit</th>\n",
       "      <th>gre</th>\n",
       "      <th>gpa</th>\n",
       "      <th>prestige</th>\n",
       "    </tr>\n",
       "  </thead>\n",
       "  <tbody>\n",
       "    <tr>\n",
       "      <th>0</th>\n",
       "      <td>0</td>\n",
       "      <td>380.0</td>\n",
       "      <td>3.61</td>\n",
       "      <td>3.0</td>\n",
       "    </tr>\n",
       "    <tr>\n",
       "      <th>1</th>\n",
       "      <td>1</td>\n",
       "      <td>660.0</td>\n",
       "      <td>3.67</td>\n",
       "      <td>3.0</td>\n",
       "    </tr>\n",
       "    <tr>\n",
       "      <th>2</th>\n",
       "      <td>1</td>\n",
       "      <td>800.0</td>\n",
       "      <td>4.00</td>\n",
       "      <td>1.0</td>\n",
       "    </tr>\n",
       "    <tr>\n",
       "      <th>3</th>\n",
       "      <td>1</td>\n",
       "      <td>640.0</td>\n",
       "      <td>3.19</td>\n",
       "      <td>4.0</td>\n",
       "    </tr>\n",
       "    <tr>\n",
       "      <th>4</th>\n",
       "      <td>0</td>\n",
       "      <td>520.0</td>\n",
       "      <td>2.93</td>\n",
       "      <td>4.0</td>\n",
       "    </tr>\n",
       "  </tbody>\n",
       "</table>\n",
       "</div>"
      ],
      "text/plain": [
       "   admit    gre   gpa  prestige\n",
       "0      0  380.0  3.61       3.0\n",
       "1      1  660.0  3.67       3.0\n",
       "2      1  800.0  4.00       1.0\n",
       "3      1  640.0  3.19       4.0\n",
       "4      0  520.0  2.93       4.0"
      ]
     },
     "execution_count": 17,
     "metadata": {},
     "output_type": "execute_result"
    }
   ],
   "source": [
    "import statsmodels.api as sm\n",
    "\n",
    "df = admissions.copy()\n",
    "df.head()"
   ]
  },
  {
   "cell_type": "code",
   "execution_count": 18,
   "metadata": {
    "slideshow": {
     "slide_type": "slide"
    }
   },
   "outputs": [
    {
     "data": {
      "text/html": [
       "<div>\n",
       "<style>\n",
       "    .dataframe thead tr:only-child th {\n",
       "        text-align: right;\n",
       "    }\n",
       "\n",
       "    .dataframe thead th {\n",
       "        text-align: left;\n",
       "    }\n",
       "\n",
       "    .dataframe tbody tr th {\n",
       "        vertical-align: top;\n",
       "    }\n",
       "</style>\n",
       "<table border=\"1\" class=\"dataframe\">\n",
       "  <thead>\n",
       "    <tr style=\"text-align: right;\">\n",
       "      <th></th>\n",
       "      <th>prestige_1.0</th>\n",
       "      <th>prestige_2.0</th>\n",
       "      <th>prestige_3.0</th>\n",
       "      <th>prestige_4.0</th>\n",
       "    </tr>\n",
       "  </thead>\n",
       "  <tbody>\n",
       "    <tr>\n",
       "      <th>0</th>\n",
       "      <td>0</td>\n",
       "      <td>0</td>\n",
       "      <td>1</td>\n",
       "      <td>0</td>\n",
       "    </tr>\n",
       "    <tr>\n",
       "      <th>1</th>\n",
       "      <td>0</td>\n",
       "      <td>0</td>\n",
       "      <td>1</td>\n",
       "      <td>0</td>\n",
       "    </tr>\n",
       "    <tr>\n",
       "      <th>2</th>\n",
       "      <td>1</td>\n",
       "      <td>0</td>\n",
       "      <td>0</td>\n",
       "      <td>0</td>\n",
       "    </tr>\n",
       "    <tr>\n",
       "      <th>3</th>\n",
       "      <td>0</td>\n",
       "      <td>0</td>\n",
       "      <td>0</td>\n",
       "      <td>1</td>\n",
       "    </tr>\n",
       "    <tr>\n",
       "      <th>4</th>\n",
       "      <td>0</td>\n",
       "      <td>0</td>\n",
       "      <td>0</td>\n",
       "      <td>1</td>\n",
       "    </tr>\n",
       "  </tbody>\n",
       "</table>\n",
       "</div>"
      ],
      "text/plain": [
       "   prestige_1.0  prestige_2.0  prestige_3.0  prestige_4.0\n",
       "0             0             0             1             0\n",
       "1             0             0             1             0\n",
       "2             1             0             0             0\n",
       "3             0             0             0             1\n",
       "4             0             0             0             1"
      ]
     },
     "execution_count": 18,
     "metadata": {},
     "output_type": "execute_result"
    }
   ],
   "source": [
    "dummy_ranks = pd.get_dummies(df[\"prestige\"], prefix=\"prestige\")\n",
    "dummy_ranks.head()"
   ]
  },
  {
   "cell_type": "code",
   "execution_count": 19,
   "metadata": {
    "slideshow": {
     "slide_type": "slide"
    }
   },
   "outputs": [
    {
     "data": {
      "text/html": [
       "<div>\n",
       "<style>\n",
       "    .dataframe thead tr:only-child th {\n",
       "        text-align: right;\n",
       "    }\n",
       "\n",
       "    .dataframe thead th {\n",
       "        text-align: left;\n",
       "    }\n",
       "\n",
       "    .dataframe tbody tr th {\n",
       "        vertical-align: top;\n",
       "    }\n",
       "</style>\n",
       "<table border=\"1\" class=\"dataframe\">\n",
       "  <thead>\n",
       "    <tr style=\"text-align: right;\">\n",
       "      <th></th>\n",
       "      <th>admit</th>\n",
       "      <th>gre</th>\n",
       "      <th>gpa</th>\n",
       "      <th>prestige_1.0</th>\n",
       "      <th>prestige_2.0</th>\n",
       "      <th>prestige_3.0</th>\n",
       "    </tr>\n",
       "  </thead>\n",
       "  <tbody>\n",
       "    <tr>\n",
       "      <th>0</th>\n",
       "      <td>0</td>\n",
       "      <td>380.0</td>\n",
       "      <td>3.61</td>\n",
       "      <td>0</td>\n",
       "      <td>0</td>\n",
       "      <td>1</td>\n",
       "    </tr>\n",
       "    <tr>\n",
       "      <th>1</th>\n",
       "      <td>1</td>\n",
       "      <td>660.0</td>\n",
       "      <td>3.67</td>\n",
       "      <td>0</td>\n",
       "      <td>0</td>\n",
       "      <td>1</td>\n",
       "    </tr>\n",
       "    <tr>\n",
       "      <th>2</th>\n",
       "      <td>1</td>\n",
       "      <td>800.0</td>\n",
       "      <td>4.00</td>\n",
       "      <td>1</td>\n",
       "      <td>0</td>\n",
       "      <td>0</td>\n",
       "    </tr>\n",
       "    <tr>\n",
       "      <th>3</th>\n",
       "      <td>1</td>\n",
       "      <td>640.0</td>\n",
       "      <td>3.19</td>\n",
       "      <td>0</td>\n",
       "      <td>0</td>\n",
       "      <td>0</td>\n",
       "    </tr>\n",
       "    <tr>\n",
       "      <th>4</th>\n",
       "      <td>0</td>\n",
       "      <td>520.0</td>\n",
       "      <td>2.93</td>\n",
       "      <td>0</td>\n",
       "      <td>0</td>\n",
       "      <td>0</td>\n",
       "    </tr>\n",
       "  </tbody>\n",
       "</table>\n",
       "</div>"
      ],
      "text/plain": [
       "   admit    gre   gpa  prestige_1.0  prestige_2.0  prestige_3.0\n",
       "0      0  380.0  3.61             0             0             1\n",
       "1      1  660.0  3.67             0             0             1\n",
       "2      1  800.0  4.00             1             0             0\n",
       "3      1  640.0  3.19             0             0             0\n",
       "4      0  520.0  2.93             0             0             0"
      ]
     },
     "execution_count": 19,
     "metadata": {},
     "output_type": "execute_result"
    }
   ],
   "source": [
    "cols_to_keep = [\"admit\", \"gre\", \"gpa\"]\n",
    "data = df[cols_to_keep].join(dummy_ranks).drop('prestige_4.0', axis=1)\n",
    "data.head()"
   ]
  },
  {
   "cell_type": "code",
   "execution_count": 20,
   "metadata": {
    "collapsed": true,
    "slideshow": {
     "slide_type": "slide"
    }
   },
   "outputs": [],
   "source": [
    "# stats models has no intercept by default\n",
    "data[\"intercept\"] = 1.0\n",
    "train_cols = data.columns[1:]"
   ]
  },
  {
   "cell_type": "code",
   "execution_count": 21,
   "metadata": {
    "collapsed": true,
    "slideshow": {
     "slide_type": "-"
    }
   },
   "outputs": [],
   "source": [
    "logit = sm.Logit(data[\"admit\"], data[train_cols])"
   ]
  },
  {
   "cell_type": "code",
   "execution_count": 22,
   "metadata": {
    "slideshow": {
     "slide_type": "-"
    }
   },
   "outputs": [
    {
     "name": "stdout",
     "output_type": "stream",
     "text": [
      "Optimization terminated successfully.\n",
      "         Current function value: 0.573854\n",
      "         Iterations 6\n"
     ]
    }
   ],
   "source": [
    "result = logit.fit()"
   ]
  },
  {
   "cell_type": "code",
   "execution_count": 23,
   "metadata": {
    "slideshow": {
     "slide_type": "slide"
    }
   },
   "outputs": [
    {
     "data": {
      "text/html": [
       "<table class=\"simpletable\">\n",
       "<tr>\n",
       "        <td>Model:</td>              <td>Logit</td>      <td>Pseudo R-squared:</td>    <td>0.082</td>  \n",
       "</tr>\n",
       "<tr>\n",
       "  <td>Dependent Variable:</td>       <td>admit</td>            <td>AIC:</td>         <td>467.6399</td> \n",
       "</tr>\n",
       "<tr>\n",
       "         <td>Date:</td>        <td>2017-07-27 15:06</td>       <td>BIC:</td>         <td>491.5435</td> \n",
       "</tr>\n",
       "<tr>\n",
       "   <td>No. Observations:</td>         <td>397</td>        <td>Log-Likelihood:</td>    <td>-227.82</td> \n",
       "</tr>\n",
       "<tr>\n",
       "       <td>Df Model:</td>              <td>5</td>            <td>LL-Null:</td>        <td>-248.08</td> \n",
       "</tr>\n",
       "<tr>\n",
       "     <td>Df Residuals:</td>           <td>391</td>         <td>LLR p-value:</td>    <td>1.1761e-07</td>\n",
       "</tr>\n",
       "<tr>\n",
       "      <td>Converged:</td>           <td>1.0000</td>           <td>Scale:</td>         <td>1.0000</td>  \n",
       "</tr>\n",
       "<tr>\n",
       "    <td>No. Iterations:</td>        <td>6.0000</td>              <td></td>               <td></td>     \n",
       "</tr>\n",
       "</table>\n",
       "<table class=\"simpletable\">\n",
       "<tr>\n",
       "        <td></td>        <th>Coef.</th>  <th>Std.Err.</th>    <th>z</th>     <th>P>|z|</th> <th>[0.025</th>  <th>0.975]</th> \n",
       "</tr>\n",
       "<tr>\n",
       "  <th>gre</th>          <td>0.0022</td>   <td>0.0011</td>  <td>2.0280</td>  <td>0.0426</td> <td>0.0001</td>  <td>0.0044</td> \n",
       "</tr>\n",
       "<tr>\n",
       "  <th>gpa</th>          <td>0.7793</td>   <td>0.3325</td>  <td>2.3438</td>  <td>0.0191</td> <td>0.1276</td>  <td>1.4311</td> \n",
       "</tr>\n",
       "<tr>\n",
       "  <th>prestige_1.0</th> <td>1.5534</td>   <td>0.4175</td>  <td>3.7211</td>  <td>0.0002</td> <td>0.7352</td>  <td>2.3716</td> \n",
       "</tr>\n",
       "<tr>\n",
       "  <th>prestige_2.0</th> <td>0.8733</td>   <td>0.3673</td>  <td>2.3777</td>  <td>0.0174</td> <td>0.1534</td>  <td>1.5931</td> \n",
       "</tr>\n",
       "<tr>\n",
       "  <th>prestige_3.0</th> <td>0.2147</td>   <td>0.3926</td>  <td>0.5470</td>  <td>0.5844</td> <td>-0.5547</td> <td>0.9841</td> \n",
       "</tr>\n",
       "<tr>\n",
       "  <th>intercept</th>    <td>-5.4303</td>  <td>1.1399</td>  <td>-4.7639</td> <td>0.0000</td> <td>-7.6644</td> <td>-3.1962</td>\n",
       "</tr>\n",
       "</table>"
      ],
      "text/plain": [
       "<class 'statsmodels.iolib.summary2.Summary'>\n",
       "\"\"\"\n",
       "                         Results: Logit\n",
       "=================================================================\n",
       "Model:              Logit            Pseudo R-squared: 0.082     \n",
       "Dependent Variable: admit            AIC:              467.6399  \n",
       "Date:               2017-07-27 15:06 BIC:              491.5435  \n",
       "No. Observations:   397              Log-Likelihood:   -227.82   \n",
       "Df Model:           5                LL-Null:          -248.08   \n",
       "Df Residuals:       391              LLR p-value:      1.1761e-07\n",
       "Converged:          1.0000           Scale:            1.0000    \n",
       "No. Iterations:     6.0000                                       \n",
       "------------------------------------------------------------------\n",
       "               Coef.   Std.Err.     z     P>|z|    [0.025   0.975]\n",
       "------------------------------------------------------------------\n",
       "gre            0.0022    0.0011   2.0280  0.0426   0.0001   0.0044\n",
       "gpa            0.7793    0.3325   2.3438  0.0191   0.1276   1.4311\n",
       "prestige_1.0   1.5534    0.4175   3.7211  0.0002   0.7352   2.3716\n",
       "prestige_2.0   0.8733    0.3673   2.3777  0.0174   0.1534   1.5931\n",
       "prestige_3.0   0.2147    0.3926   0.5470  0.5844  -0.5547   0.9841\n",
       "intercept     -5.4303    1.1399  -4.7639  0.0000  -7.6644  -3.1962\n",
       "=================================================================\n",
       "\n",
       "\"\"\""
      ]
     },
     "execution_count": 23,
     "metadata": {},
     "output_type": "execute_result"
    }
   ],
   "source": [
    "result.summary2()"
   ]
  },
  {
   "cell_type": "markdown",
   "metadata": {
    "slideshow": {
     "slide_type": "slide"
    }
   },
   "source": [
    "## What are the interpretations of these coefficients?"
   ]
  },
  {
   "cell_type": "markdown",
   "metadata": {
    "slideshow": {
     "slide_type": "-"
    }
   },
   "source": [
    "- For every one unit change in gre, the log odds of admission (versus non-admission) increases by 0.002.\n",
    "- For a one unit increase in gpa, the log odds of being admitted to graduate school increases by 0.804.\n",
    "- The coefficients for the categories of rank have a slightly different interpretation. Remember that we dropped prestige 4, so this is our reference case.\n",
    "    - For example, having attended an undergraduate institution with a rank of 1, versus an institution with a rank of 4, increases the log odds of admission by 1.55. "
   ]
  },
  {
   "cell_type": "markdown",
   "metadata": {
    "slideshow": {
     "slide_type": "slide"
    }
   },
   "source": [
    "## Ugh.  But I hate log-odds.  Can I get odds?"
   ]
  },
  {
   "cell_type": "markdown",
   "metadata": {
    "slideshow": {
     "slide_type": "fragment"
    }
   },
   "source": [
    "Yes.\n",
    "\n",
    "So for a one unit increase in gpa, we get e^0.7793 = 2.18 or 118% increase in the odds of acceptance."
   ]
  },
  {
   "cell_type": "markdown",
   "metadata": {
    "slideshow": {
     "slide_type": "slide"
    }
   },
   "source": [
    "## ... but didn't we say that logistic regression is used for classification?"
   ]
  },
  {
   "cell_type": "markdown",
   "metadata": {
    "slideshow": {
     "slide_type": "-"
    }
   },
   "source": [
    "How can we convert our probabilities into classes?  I.e., what if I want to predict admit vs not?  How can I use the estimated probabilities to do this?"
   ]
  },
  {
   "cell_type": "markdown",
   "metadata": {
    "slideshow": {
     "slide_type": "slide"
    }
   },
   "source": [
    "## Conclusion\n",
    "\n",
    "\n",
    "The goal of logistic regression is to find the best fitting model to describe the relationship between the characteristic of interest (dependent variable = response or outcome variable) and a set of independent (predictor or explanatory) variables. \n",
    "\n",
    "Logistic regression generates the coefficients (and in statsmodels the standard errors and significance levels) of a formula to predict a logit transformation of the probability of presence of the characteristic of interest.\n",
    "\n",
    "**Benefits of Logistic regression include:**\n",
    "- Logistic regression is a classification algorithm that shares similar properties to linear regression\n",
    "- It is very fast and efficient and is by far the most common classification algorithm\n",
    "- The coefficients in a logistic regression model are interpretable (albeit somewhat complex): they represent the change in log-odds due to the input variables"
   ]
  },
  {
   "cell_type": "markdown",
   "metadata": {
    "slideshow": {
     "slide_type": "slide"
    }
   },
   "source": [
    "##  Independent Practice\n",
    "\n",
    "For the independent practice, you are going to repeat the above regression in sklearn.  "
   ]
  },
  {
   "cell_type": "markdown",
   "metadata": {},
   "source": [
    "<a id='resources'></a>\n",
    "\n",
    "## Additional resources\n",
    "\n",
    "---\n",
    "\n",
    "- [Logistic Regression Video Walkthrough](https://www.youtube.com/watch?v=zAULhNrnuL4&noredirect=1)\n",
    "- [Logistic Regression Walkthrough](http://www.mc.vanderbilt.edu/gcrc/workshop_files/2004-11-12.pdf)\n",
    "- [Logistic Regression w/ Statsmodel - Well Switching in Bangledesh](http://nbviewer.ipython.org/urls/raw.github.com/carljv/Will_it_Python/master/ARM/ch5/arsenic_wells_switching.ipynb)\n",
    "- [Odds Ratio Explanation](http://www.wright.edu/~thaddeus.tarpey/ES714glm.pdf)\n",
    "- [0 and 1 are not probabilities](http://lesswrong.com/lw/mp/0_and_1_are_not_probabilities/)"
   ]
  }
 ],
 "metadata": {
  "celltoolbar": "Slideshow",
  "kernelspec": {
   "display_name": "Python 2",
   "language": "python",
   "name": "python2"
  },
  "language_info": {
   "codemirror_mode": {
    "name": "ipython",
    "version": 2
   },
   "file_extension": ".py",
   "mimetype": "text/x-python",
   "name": "python",
   "nbconvert_exporter": "python",
   "pygments_lexer": "ipython2",
   "version": "2.7.13"
  }
 },
 "nbformat": 4,
 "nbformat_minor": 1
}
